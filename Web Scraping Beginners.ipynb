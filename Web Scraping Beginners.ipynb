{
 "cells": [
  {
   "cell_type": "code",
   "execution_count": 84,
   "id": "2fe9ef2c",
   "metadata": {},
   "outputs": [],
   "source": [
    "# !pip install requests\n",
    "# !pip install html5lib\n",
    "# !pip install bs4"
   ]
  },
  {
   "cell_type": "code",
   "execution_count": 85,
   "id": "19c0869c",
   "metadata": {},
   "outputs": [],
   "source": [
    "import pandas as pd\n",
    "import numpy as np\n",
    "import requests\n",
    "from bs4 import BeautifulSoup\n",
    "import html5lib"
   ]
  },
  {
   "cell_type": "code",
   "execution_count": 86,
   "id": "f8238183",
   "metadata": {},
   "outputs": [],
   "source": [
    "# Make a request to the website\n",
    "url = 'https://www.imdb.com/chart/top'\n",
    "response = requests.get(url)\n",
    "\n",
    "# Parse HTML and extract movie information\n",
    "soup = BeautifulSoup(response.text, 'html.parser')"
   ]
  },
  {
   "cell_type": "code",
   "execution_count": 87,
   "id": "e7955d34",
   "metadata": {},
   "outputs": [],
   "source": [
    "#print(soup)"
   ]
  },
  {
   "cell_type": "code",
   "execution_count": 88,
   "id": "27f7598c",
   "metadata": {},
   "outputs": [],
   "source": [
    "#print(soup.prettify())"
   ]
  },
  {
   "cell_type": "markdown",
   "id": "55aa8d2c",
   "metadata": {},
   "source": [
    "# Rank"
   ]
  },
  {
   "cell_type": "code",
   "execution_count": 89,
   "id": "33314e05",
   "metadata": {},
   "outputs": [
    {
     "data": {
      "text/plain": [
       "'1'"
      ]
     },
     "execution_count": 89,
     "metadata": {},
     "output_type": "execute_result"
    }
   ],
   "source": [
    "soup.find('td',class_='titleColumn').text.strip()[0]"
   ]
  },
  {
   "cell_type": "code",
   "execution_count": 90,
   "id": "c695d254",
   "metadata": {},
   "outputs": [],
   "source": [
    "movie = soup.find_all('td', class_='titleColumn')\n",
    "for td in movie:\n",
    "    rank = td.text.strip().split('.')[0]\n",
    "   # print(rank)"
   ]
  },
  {
   "cell_type": "markdown",
   "id": "6f568fe7",
   "metadata": {},
   "source": [
    "# Finding 1st name of the movie"
   ]
  },
  {
   "cell_type": "code",
   "execution_count": 91,
   "id": "4148e923",
   "metadata": {},
   "outputs": [
    {
     "data": {
      "text/plain": [
       "'The Shawshank Redemption'"
      ]
     },
     "execution_count": 91,
     "metadata": {},
     "output_type": "execute_result"
    }
   ],
   "source": [
    "soup.find('td',class_='titleColumn').a.text"
   ]
  },
  {
   "cell_type": "markdown",
   "id": "0f1add50",
   "metadata": {},
   "source": [
    "# All movies name"
   ]
  },
  {
   "cell_type": "code",
   "execution_count": 92,
   "id": "f5100fd6",
   "metadata": {},
   "outputs": [],
   "source": [
    "movie_name = soup.find_all('td', class_='titleColumn')\n",
    "for td in movie_name:\n",
    "    title = td.a.text.strip()\n",
    "   # print(title)\n"
   ]
  },
  {
   "cell_type": "markdown",
   "id": "3b6ea15e",
   "metadata": {},
   "source": [
    "# Finding year"
   ]
  },
  {
   "cell_type": "code",
   "execution_count": 93,
   "id": "e980233a",
   "metadata": {
    "scrolled": true
   },
   "outputs": [
    {
     "data": {
      "text/plain": [
       "'(1994)'"
      ]
     },
     "execution_count": 93,
     "metadata": {},
     "output_type": "execute_result"
    }
   ],
   "source": [
    "soup.find('td',class_='titleColumn').span.text"
   ]
  },
  {
   "cell_type": "code",
   "execution_count": 94,
   "id": "09f7aa1c",
   "metadata": {},
   "outputs": [
    {
     "data": {
      "text/plain": [
       "'1994'"
      ]
     },
     "execution_count": 94,
     "metadata": {},
     "output_type": "execute_result"
    }
   ],
   "source": [
    "soup.find('td',class_='titleColumn').span.text.strip('()')"
   ]
  },
  {
   "cell_type": "code",
   "execution_count": 95,
   "id": "6cda510e",
   "metadata": {},
   "outputs": [],
   "source": [
    "movie = soup.find_all('td', class_='titleColumn')\n",
    "for td in movie:\n",
    "    year = td.span.text.strip('()')\n",
    "   # print(year)"
   ]
  },
  {
   "cell_type": "markdown",
   "id": "b7845056",
   "metadata": {},
   "source": [
    "# combine Movie name & Year"
   ]
  },
  {
   "cell_type": "code",
   "execution_count": 96,
   "id": "cb7c39cd",
   "metadata": {},
   "outputs": [
    {
     "name": "stdout",
     "output_type": "stream",
     "text": [
      "[('The Shawshank Redemption', '1994'), ('The Godfather', '1972'), ('The Dark Knight', '2008'), ('The Godfather Part II', '1974'), ('12 Angry Men', '1957'), (\"Schindler's List\", '1993'), ('The Lord of the Rings: The Return of the King', '2003'), ('Pulp Fiction', '1994'), ('The Lord of the Rings: The Fellowship of the Ring', '2001'), ('Il buono, il brutto, il cattivo', '1966'), ('Forrest Gump', '1994'), ('Fight Club', '1999'), ('The Lord of the Rings: The Two Towers', '2002'), ('Inception', '2010'), ('The Empire Strikes Back', '1980'), ('The Matrix', '1999'), ('GoodFellas', '1990'), (\"One Flew Over the Cuckoo's Nest\", '1975'), ('Se7en', '1995'), ('Shichinin no samurai', '1954'), (\"It's a Wonderful Life\", '1946'), ('The Silence of the Lambs', '1991'), ('Saving Private Ryan', '1998'), ('Cidade de Deus', '2002'), ('Interstellar', '2014'), ('La vita è bella', '1997'), ('The Green Mile', '1999'), ('Star Wars', '1977'), ('Terminator 2: Judgment Day', '1991'), ('Back to the Future', '1985'), ('Sen to Chihiro no kamikakushi', '2001'), ('The Pianist', '2002'), ('Psycho', '1960'), ('Gisaengchung', '2019'), ('Léon', '1994'), ('The Lion King', '1994'), ('Gladiator', '2000'), ('American History X', '1998'), ('The Departed', '2006'), ('Whiplash', '2014'), ('The Prestige', '2006'), ('The Usual Suspects', '1995'), ('Casablanca', '1942'), ('Hotaru no haka', '1988'), ('Seppuku', '1962'), ('The Intouchables', '2011'), ('Modern Times', '1936'), ('Once Upon a Time in the West', '1968'), ('Nuovo Cinema Paradiso', '1988'), ('Rear Window', '1954'), ('Alien', '1979'), ('City Lights', '1931'), ('Apocalypse Now', '1979'), ('Memento', '2000'), ('Django Unchained', '2012'), ('Raiders of the Lost Ark', '1981'), ('WALL·E', '2008'), ('The Lives of Others', '2006'), ('Sunset Blvd.', '1950'), ('Paths of Glory', '1957'), ('The Shining', '1980'), ('The Great Dictator', '1940'), ('Avengers: Infinity War', '2018'), ('Witness for the Prosecution', '1957'), ('Aliens', '1986'), ('Spider-Man: Into the Spider-Verse', '2018'), ('American Beauty', '1999'), ('Dr. Strangelove or: How I Learned to Stop Worrying and Love the Bomb', '1964'), ('The Dark Knight Rises', '2012'), ('Oldeuboi', '2003'), ('Inglourious Basterds', '2009'), ('Amadeus', '1984'), ('Coco', '2017'), ('Toy Story', '1995'), ('Braveheart', '1995'), ('Joker', '2019'), ('Das Boot', '1981'), ('Avengers: Endgame', '2019'), ('Mononoke-hime', '1997'), ('Once Upon a Time in America', '1984'), ('Good Will Hunting', '1997'), ('Kimi no na wa.', '2016'), (\"Singin' in the Rain\", '1952'), ('3 Idiots', '2009'), ('Requiem for a Dream', '2000'), ('Tengoku to jigoku', '1963'), ('Toy Story 3', '2010'), ('Capharnaüm', '2018'), ('Star Wars: Episode VI - Return of the Jedi', '1983'), ('2001: A Space Odyssey', '1968'), ('Eternal Sunshine of the Spotless Mind', '2004'), ('Idi i smotri', '1985'), ('Reservoir Dogs', '1992'), ('Jagten', '2012'), ('Citizen Kane', '1941'), ('Lawrence of Arabia', '1962'), ('M - Eine Stadt sucht einen Mörder', '1931'), ('North by Northwest', '1959'), ('Ikiru', '1952'), ('Vertigo', '1958'), ('The Apartment', '1960'), (\"Le fabuleux destin d'Amélie Poulain\", '2001'), ('Double Indemnity', '1944'), ('A Clockwork Orange', '1971'), ('Full Metal Jacket', '1987'), ('Scarface', '1983'), ('Hamilton', '2020'), ('Incendies', '2010'), ('Heat', '1995'), ('To Kill a Mockingbird', '1962'), ('Up', '2009'), ('The Sting', '1973'), ('Jodaeiye Nader az Simin', '2011'), ('Metropolis', '1927'), ('Taxi Driver', '1976'), ('L.A. Confidential', '1997'), ('Die Hard', '1988'), ('Snatch', '2000'), ('Indiana Jones and the Last Crusade', '1989'), ('Ladri di biciclette', '1948'), ('Taare Zameen Par', '2007'), ('Top Gun: Maverick', '2022'), ('1917', '2019'), ('Der Untergang', '2004'), ('Dangal', '2016'), ('Per qualche dollaro in più', '1965'), ('Batman Begins', '2005'), ('The Kid', '1921'), ('Some Like It Hot', '1959'), ('The Father', '2020'), ('All About Eve', '1950'), ('The Wolf of Wall Street', '2013'), ('Green Book', '2018'), ('Judgment at Nuremberg', '1961'), ('Ran', '1985'), ('Casino', '1995'), ('The Truman Show', '1998'), ('There Will Be Blood', '2007'), (\"Pan's Labyrinth\", '2006'), ('Unforgiven', '1992'), ('The Sixth Sense', '1999'), ('Shutter Island', '2010'), ('A Beautiful Mind', '2001'), ('Jurassic Park', '1993'), ('Yôjinbô', '1961'), ('The Treasure of the Sierra Madre', '1948'), ('Monty Python and the Holy Grail', '1975'), ('No Country for Old Men', '2007'), ('The Great Escape', '1963'), ('Kill Bill: Vol. 1', '2003'), ('Rashômon', '1950'), ('The Thing', '1982'), ('Spider-Man: No Way Home', '2021'), ('Finding Nemo', '2003'), ('The Elephant Man', '1980'), ('Chinatown', '1974'), ('John Wick: Chapter 4', '2023'), ('Raging Bull', '1980'), ('V for Vendetta', '2005'), ('Gone with the Wind', '1939'), ('Lock, Stock and Two Smoking Barrels', '1998'), ('Dial M for Murder', '1954'), ('Inside Out', '2015'), ('El secreto de sus ojos', '2009'), ('Hauru no ugoku shiro', '2004'), ('Three Billboards Outside Ebbing, Missouri', '2017'), ('Trainspotting', '1996'), ('The Bridge on the River Kwai', '1957'), ('Prisoners', '2013'), ('Warrior', '2011'), ('Fargo', '1996'), ('Gran Torino', '2008'), ('Catch Me If You Can', '2002'), ('Tonari no Totoro', '1988'), ('Million Dollar Baby', '2004'), ('Bacheha-Ye aseman', '1997'), ('Blade Runner', '1982'), ('The Gold Rush', '1925'), ('Klaus', '2019'), ('Harry Potter and the Deathly Hallows: Part 2', '2011'), ('Before Sunrise', '1995'), ('12 Years a Slave', '2013'), ('Ben-Hur', '1959'), ('On the Waterfront', '1954'), ('The Grand Budapest Hotel', '2014'), ('Gone Girl', '2014'), ('Smultronstället', '1957'), ('The General', '1926'), ('Barry Lyndon', '1975'), ('In the Name of the Father', '1993'), ('The Deer Hunter', '1978'), ('The Third Man', '1949'), ('Hacksaw Ridge', '2016'), ('Le salaire de la peur', '1953'), ('Salinui chueok', '2003'), ('Sherlock Jr.', '1924'), ('Relatos salvajes', '2014'), ('Mr. Smith Goes to Washington', '1939'), ('Mad Max: Fury Road', '2015'), ('Mary and Max.', '2009'), ('Det sjunde inseglet', '1957'), ('How to Train Your Dragon', '2010'), ('Monsters, Inc.', '2001'), ('Dead Poets Society', '1989'), ('Jaws', '1975'), ('Room', '2015'), ('The Big Lebowski', '1998'), ('Tôkyô monogatari', '1953'), (\"La passion de Jeanne d'Arc\", '1928'), ('Ford v Ferrari', '2019'), ('Hotel Rwanda', '2004'), ('Rocky', '1976'), ('Platoon', '1986'), ('Ratatouille', '2007'), ('Spotlight', '2015'), ('Logan', '2017'), ('The Terminator', '1984'), ('Stand by Me', '1986'), ('Rush', '2013'), ('Network', '1976'), ('Before Sunset', '2004'), ('Into the Wild', '2007'), ('The Wizard of Oz', '1939'), ('The Best Years of Our Lives', '1946'), ('Groundhog Day', '1993'), ('The Exorcist', '1973'), ('The Incredibles', '2004'), ('La haine', '1995'), ('To Be or Not to Be', '1942'), ('Pirates of the Caribbean: The Curse of the Black Pearl', '2003'), ('Pather Panchali', '1955'), (\"Hachi: A Dog's Tale\", '2009'), ('The Grapes of Wrath', '1940'), ('La battaglia di Algeri', '1966'), ('Jai Bhim', '2021'), ('Babam ve Oglum', '2005'), ('Amores perros', '2000'), ('Rebecca', '1940'), ('Cool Hand Luke', '1967'), ('Ah-ga-ssi', '2016'), ('The Sound of Music', '1965'), ('Les quatre cents coups', '1959'), ('It Happened One Night', '1934'), ('Persona', '1966'), ('Life of Brian', '1979'), ('The Iron Giant', '1999'), ('The Help', '2011'), ('Aladdin', '1992'), ('Dersu Uzala', '1975'), ('Dances with Wolves', '1990')]\n"
     ]
    }
   ],
   "source": [
    "top_movie= soup.find_all('td', class_='titleColumn')\n",
    "movies = []\n",
    "\n",
    "for td in top_movie:\n",
    "    title = td.a.text.strip()\n",
    "    year = td.span.text.strip('()')\n",
    "    movies.append((title, year))\n",
    "\n",
    "print(movies)"
   ]
  },
  {
   "cell_type": "markdown",
   "id": "59065c2e",
   "metadata": {},
   "source": [
    "# Ratings"
   ]
  },
  {
   "cell_type": "code",
   "execution_count": 97,
   "id": "4febaf4f",
   "metadata": {},
   "outputs": [
    {
     "data": {
      "text/plain": [
       "'9.2'"
      ]
     },
     "execution_count": 97,
     "metadata": {},
     "output_type": "execute_result"
    }
   ],
   "source": [
    "soup.find('td',class_='ratingColumn imdbRating').strong.text"
   ]
  },
  {
   "cell_type": "code",
   "execution_count": 98,
   "id": "a0e8cef0",
   "metadata": {},
   "outputs": [],
   "source": [
    "movie= soup.find_all('td', class_='ratingColumn imdbRating')\n",
    "for td in movie:\n",
    "    rating = td.strong.text.strip()\n",
    "   # print(rating)"
   ]
  },
  {
   "cell_type": "markdown",
   "id": "6fd1503e",
   "metadata": {},
   "source": [
    "# All are combined"
   ]
  },
  {
   "cell_type": "code",
   "execution_count": 99,
   "id": "7c60ada7",
   "metadata": {
    "scrolled": true
   },
   "outputs": [
    {
     "name": "stdout",
     "output_type": "stream",
     "text": [
      "    Rank                     Title  Year Rating\n",
      "0      1  The Shawshank Redemption  1994    9.2\n",
      "1      2             The Godfather  1972    9.2\n",
      "2      3           The Dark Knight  2008    9.0\n",
      "3      4     The Godfather Part II  1974    9.0\n",
      "4      5              12 Angry Men  1957    9.0\n",
      "..   ...                       ...   ...    ...\n",
      "245  246            The Iron Giant  1999    8.0\n",
      "246  247                  The Help  2011    8.0\n",
      "247  248                   Aladdin  1992    8.0\n",
      "248  249               Dersu Uzala  1975    8.0\n",
      "249  250        Dances with Wolves  1990    8.0\n",
      "\n",
      "[250 rows x 4 columns]\n"
     ]
    }
   ],
   "source": [
    "movie_list = soup.find('tbody', class_='lister-list').find_all('tr')\n",
    "ranks = []\n",
    "titles = []\n",
    "years = []\n",
    "ratings = []\n",
    "\n",
    "for movie in movie_list:\n",
    "    rank = movie.find('td', class_='titleColumn').get_text(strip=True).split('.')[0]\n",
    "    ranks.append(rank)\n",
    "    title = movie.find('td', class_='titleColumn').a.text\n",
    "    titles.append(title)\n",
    "    year = movie.find('td', class_='titleColumn').span.text.strip('()')\n",
    "    years.append(year)\n",
    "    rating = movie.find('td', class_='ratingColumn imdbRating').strong.text\n",
    "    ratings.append(rating)\n",
    "\n",
    "# Combine data into a pandas DataFrame\n",
    "data = {'Rank': ranks, 'Title': titles, 'Year': years, 'Rating': ratings}\n",
    "df = pd.DataFrame(data)\n",
    "\n",
    "# Print the DataFrame\n",
    "print(df)\n"
   ]
  },
  {
   "cell_type": "code",
   "execution_count": 100,
   "id": "c2fc1310",
   "metadata": {},
   "outputs": [
    {
     "data": {
      "text/html": [
       "<div>\n",
       "<style scoped>\n",
       "    .dataframe tbody tr th:only-of-type {\n",
       "        vertical-align: middle;\n",
       "    }\n",
       "\n",
       "    .dataframe tbody tr th {\n",
       "        vertical-align: top;\n",
       "    }\n",
       "\n",
       "    .dataframe thead th {\n",
       "        text-align: right;\n",
       "    }\n",
       "</style>\n",
       "<table border=\"1\" class=\"dataframe\">\n",
       "  <thead>\n",
       "    <tr style=\"text-align: right;\">\n",
       "      <th></th>\n",
       "      <th>Rank</th>\n",
       "      <th>Title</th>\n",
       "      <th>Year</th>\n",
       "      <th>Rating</th>\n",
       "    </tr>\n",
       "  </thead>\n",
       "  <tbody>\n",
       "    <tr>\n",
       "      <th>0</th>\n",
       "      <td>1</td>\n",
       "      <td>The Shawshank Redemption</td>\n",
       "      <td>1994</td>\n",
       "      <td>9.2</td>\n",
       "    </tr>\n",
       "    <tr>\n",
       "      <th>1</th>\n",
       "      <td>2</td>\n",
       "      <td>The Godfather</td>\n",
       "      <td>1972</td>\n",
       "      <td>9.2</td>\n",
       "    </tr>\n",
       "    <tr>\n",
       "      <th>2</th>\n",
       "      <td>3</td>\n",
       "      <td>The Dark Knight</td>\n",
       "      <td>2008</td>\n",
       "      <td>9.0</td>\n",
       "    </tr>\n",
       "    <tr>\n",
       "      <th>3</th>\n",
       "      <td>4</td>\n",
       "      <td>The Godfather Part II</td>\n",
       "      <td>1974</td>\n",
       "      <td>9.0</td>\n",
       "    </tr>\n",
       "    <tr>\n",
       "      <th>4</th>\n",
       "      <td>5</td>\n",
       "      <td>12 Angry Men</td>\n",
       "      <td>1957</td>\n",
       "      <td>9.0</td>\n",
       "    </tr>\n",
       "  </tbody>\n",
       "</table>\n",
       "</div>"
      ],
      "text/plain": [
       "  Rank                     Title  Year Rating\n",
       "0    1  The Shawshank Redemption  1994    9.2\n",
       "1    2             The Godfather  1972    9.2\n",
       "2    3           The Dark Knight  2008    9.0\n",
       "3    4     The Godfather Part II  1974    9.0\n",
       "4    5              12 Angry Men  1957    9.0"
      ]
     },
     "execution_count": 100,
     "metadata": {},
     "output_type": "execute_result"
    }
   ],
   "source": [
    "df.head()"
   ]
  },
  {
   "cell_type": "code",
   "execution_count": 101,
   "id": "c17e3f9b",
   "metadata": {},
   "outputs": [
    {
     "data": {
      "text/html": [
       "<div>\n",
       "<style scoped>\n",
       "    .dataframe tbody tr th:only-of-type {\n",
       "        vertical-align: middle;\n",
       "    }\n",
       "\n",
       "    .dataframe tbody tr th {\n",
       "        vertical-align: top;\n",
       "    }\n",
       "\n",
       "    .dataframe thead th {\n",
       "        text-align: right;\n",
       "    }\n",
       "</style>\n",
       "<table border=\"1\" class=\"dataframe\">\n",
       "  <thead>\n",
       "    <tr style=\"text-align: right;\">\n",
       "      <th></th>\n",
       "      <th>Rank</th>\n",
       "      <th>Title</th>\n",
       "      <th>Year</th>\n",
       "      <th>Rating</th>\n",
       "    </tr>\n",
       "  </thead>\n",
       "  <tbody>\n",
       "    <tr>\n",
       "      <th>245</th>\n",
       "      <td>246</td>\n",
       "      <td>The Iron Giant</td>\n",
       "      <td>1999</td>\n",
       "      <td>8.0</td>\n",
       "    </tr>\n",
       "    <tr>\n",
       "      <th>246</th>\n",
       "      <td>247</td>\n",
       "      <td>The Help</td>\n",
       "      <td>2011</td>\n",
       "      <td>8.0</td>\n",
       "    </tr>\n",
       "    <tr>\n",
       "      <th>247</th>\n",
       "      <td>248</td>\n",
       "      <td>Aladdin</td>\n",
       "      <td>1992</td>\n",
       "      <td>8.0</td>\n",
       "    </tr>\n",
       "    <tr>\n",
       "      <th>248</th>\n",
       "      <td>249</td>\n",
       "      <td>Dersu Uzala</td>\n",
       "      <td>1975</td>\n",
       "      <td>8.0</td>\n",
       "    </tr>\n",
       "    <tr>\n",
       "      <th>249</th>\n",
       "      <td>250</td>\n",
       "      <td>Dances with Wolves</td>\n",
       "      <td>1990</td>\n",
       "      <td>8.0</td>\n",
       "    </tr>\n",
       "  </tbody>\n",
       "</table>\n",
       "</div>"
      ],
      "text/plain": [
       "    Rank               Title  Year Rating\n",
       "245  246      The Iron Giant  1999    8.0\n",
       "246  247            The Help  2011    8.0\n",
       "247  248             Aladdin  1992    8.0\n",
       "248  249         Dersu Uzala  1975    8.0\n",
       "249  250  Dances with Wolves  1990    8.0"
      ]
     },
     "execution_count": 101,
     "metadata": {},
     "output_type": "execute_result"
    }
   ],
   "source": [
    "df.tail()"
   ]
  },
  {
   "cell_type": "code",
   "execution_count": 102,
   "id": "04787c5b",
   "metadata": {},
   "outputs": [
    {
     "data": {
      "text/plain": [
       "(250, 4)"
      ]
     },
     "execution_count": 102,
     "metadata": {},
     "output_type": "execute_result"
    }
   ],
   "source": [
    "df.shape"
   ]
  },
  {
   "cell_type": "code",
   "execution_count": 103,
   "id": "ca9f50c3",
   "metadata": {},
   "outputs": [
    {
     "data": {
      "text/html": [
       "<div>\n",
       "<style scoped>\n",
       "    .dataframe tbody tr th:only-of-type {\n",
       "        vertical-align: middle;\n",
       "    }\n",
       "\n",
       "    .dataframe tbody tr th {\n",
       "        vertical-align: top;\n",
       "    }\n",
       "\n",
       "    .dataframe thead th {\n",
       "        text-align: right;\n",
       "    }\n",
       "</style>\n",
       "<table border=\"1\" class=\"dataframe\">\n",
       "  <thead>\n",
       "    <tr style=\"text-align: right;\">\n",
       "      <th></th>\n",
       "      <th>Rank</th>\n",
       "      <th>Title</th>\n",
       "      <th>Year</th>\n",
       "      <th>Rating</th>\n",
       "    </tr>\n",
       "  </thead>\n",
       "  <tbody>\n",
       "  </tbody>\n",
       "</table>\n",
       "</div>"
      ],
      "text/plain": [
       "Empty DataFrame\n",
       "Columns: [Rank, Title, Year, Rating]\n",
       "Index: []"
      ]
     },
     "execution_count": 103,
     "metadata": {},
     "output_type": "execute_result"
    }
   ],
   "source": [
    "df[df.duplicated()]"
   ]
  },
  {
   "cell_type": "code",
   "execution_count": 104,
   "id": "02b6cbca",
   "metadata": {},
   "outputs": [
    {
     "data": {
      "text/plain": [
       "array(['1994', '1972', '2008', '1974', '1957', '1993', '2003', '2001',\n",
       "       '1966', '1999', '2002', '2010', '1980', '1990', '1975', '1995',\n",
       "       '1954', '1946', '1991', '1998', '2014', '1997', '1977', '1985',\n",
       "       '1960', '2019', '2000', '2006', '1942', '1988', '1962', '2011',\n",
       "       '1936', '1968', '1979', '1931', '2012', '1981', '1950', '1940',\n",
       "       '2018', '1986', '1964', '2009', '1984', '2017', '2016', '1952',\n",
       "       '1963', '1983', '2004', '1992', '1941', '1959', '1958', '1944',\n",
       "       '1971', '1987', '2020', '1973', '1927', '1976', '1989', '1948',\n",
       "       '2007', '2022', '1965', '2005', '1921', '2013', '1961', '1982',\n",
       "       '2021', '2023', '1939', '2015', '1996', '1925', '1926', '1978',\n",
       "       '1949', '1953', '1924', '1928', '1955', '1967', '1934'],\n",
       "      dtype=object)"
      ]
     },
     "execution_count": 104,
     "metadata": {},
     "output_type": "execute_result"
    }
   ],
   "source": [
    "df['Year'].unique()"
   ]
  },
  {
   "cell_type": "code",
   "execution_count": 105,
   "id": "20ad0819",
   "metadata": {},
   "outputs": [
    {
     "data": {
      "text/plain": [
       "87"
      ]
     },
     "execution_count": 105,
     "metadata": {},
     "output_type": "execute_result"
    }
   ],
   "source": [
    "df['Year'].unique().size"
   ]
  },
  {
   "cell_type": "code",
   "execution_count": 83,
   "id": "87bb2fe5",
   "metadata": {},
   "outputs": [],
   "source": [
    "# save the DataFrame as a CSV file\n",
    "df.to_csv('my_data.csv', index=False)\n",
    "\n",
    "# index=False means we don't want to include the index column in the CSV file"
   ]
  },
  {
   "cell_type": "code",
   "execution_count": null,
   "id": "8cfc5e2d",
   "metadata": {},
   "outputs": [],
   "source": []
  }
 ],
 "metadata": {
  "kernelspec": {
   "display_name": "Python 3 (ipykernel)",
   "language": "python",
   "name": "python3"
  },
  "language_info": {
   "codemirror_mode": {
    "name": "ipython",
    "version": 3
   },
   "file_extension": ".py",
   "mimetype": "text/x-python",
   "name": "python",
   "nbconvert_exporter": "python",
   "pygments_lexer": "ipython3",
   "version": "3.9.7"
  }
 },
 "nbformat": 4,
 "nbformat_minor": 5
}
